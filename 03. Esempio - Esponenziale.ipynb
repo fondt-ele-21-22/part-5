{
 "cells": [
  {
   "cell_type": "markdown",
   "metadata": {
    "slideshow": {
     "slide_type": "subslide"
    }
   },
   "source": [
    "## Esempio: Esponenziale\n",
    "\n",
    "**Si definisca una funzione:**\n",
    "\n",
    "```python\n",
    "def factorial(n)\n",
    "```\n",
    "\n",
    "...Che calcoli il fattoriale del parametro di ingresso `n`.\n",
    "\n",
    "**La si utilizzi quindi per definire una seconda funzione:**\n",
    "\n",
    "```python\n",
    "def exponential(x, m)\n",
    "```\n",
    "\n",
    "...Che approssimi $e^x$ sando il suo sviluppo in serie di Taylor troncata:\n",
    "\n",
    "$$\n",
    "e^x \\simeq \\sum_{n = 0}^m \\frac{x^n}{n!}\n",
    "$$"
   ]
  },
  {
   "cell_type": "markdown",
   "metadata": {
    "slideshow": {
     "slide_type": "subslide"
    }
   },
   "source": [
    "## Esempio: Esponenziale\n",
    "\n",
    "**Si verifichi (per stampa) la validità delle seguenti affermazioni:**\n",
    "\n",
    "$$\n",
    "e^2 \\simeq 7.389 \\quad e^3 \\simeq 20.086 \\quad e^4 \\simeq 54.598\n",
    "$$\n",
    "\n",
    "* Si utilizzi un ciclo per gestire la stampa dei valori\n",
    "\n",
    "**Alcune note:**\n",
    "\n",
    "* Il codice dell'esercizio analogo nella parte 4 è disponibile come riferimento\n",
    "* Il codice deve essere contenuto in un'unica cella\n",
    "* Si effettuino esperimenti con diversi valori di $x$ ed $m$"
   ]
  },
  {
   "cell_type": "markdown",
   "metadata": {
    "slideshow": {
     "slide_type": "subslide"
    }
   },
   "source": [
    "## Esempio: Esponenziale\n",
    "\n",
    "**Il codice da usare come riferimento è:**"
   ]
  },
  {
   "cell_type": "code",
   "execution_count": 7,
   "metadata": {},
   "outputs": [
    {
     "name": "stdout",
     "output_type": "stream",
     "text": [
      "e^2.000 ~= 7.389\n"
     ]
    }
   ],
   "source": [
    "x = 2 # ingresso\n",
    "m = 15\n",
    "\n",
    "res = 0 # valore di partenza per la somma\n",
    "for n in range(m+1):\n",
    "    # calcolo del fattoriale\n",
    "    nfact = 1\n",
    "    for v in range(1, n+1):\n",
    "        nfact *= v\n",
    "    # aggiorno res\n",
    "    res += x**n / nfact\n",
    "    \n",
    "print(f'e^{x:.3f} ~= {res:.3f}')"
   ]
  },
  {
   "cell_type": "markdown",
   "metadata": {},
   "source": [
    "**Una possibile soluzione dell'esercizio:**"
   ]
  },
  {
   "cell_type": "code",
   "execution_count": 8,
   "metadata": {},
   "outputs": [
    {
     "name": "stdout",
     "output_type": "stream",
     "text": [
      "e^2 ~= 7.389\n",
      "e^3 ~= 20.086\n",
      "e^4 ~= 54.598\n"
     ]
    }
   ],
   "source": [
    "def factorial(n):\n",
    "    res = 1\n",
    "    for i in range(1, n+1):\n",
    "        res *= i\n",
    "    return res\n",
    "\n",
    "def exponential(x, m):\n",
    "    return sum(x**n / factorial(n) for n in range(m+1))\n",
    "\n",
    "for x in range(2, 4+1):\n",
    "    print(f'e^{x} ~= {exponential(x, m):.3f}')"
   ]
  }
 ],
 "metadata": {
  "celltoolbar": "Slideshow",
  "kernelspec": {
   "display_name": "Python 3 (ipykernel)",
   "language": "python",
   "name": "python3"
  },
  "language_info": {
   "codemirror_mode": {
    "name": "ipython",
    "version": 3
   },
   "file_extension": ".py",
   "mimetype": "text/x-python",
   "name": "python",
   "nbconvert_exporter": "python",
   "pygments_lexer": "ipython3",
   "version": "3.9.5"
  },
  "rise": {
   "center": false,
   "enable_chalkboard": true,
   "transition": "fade"
  }
 },
 "nbformat": 4,
 "nbformat_minor": 4
}
