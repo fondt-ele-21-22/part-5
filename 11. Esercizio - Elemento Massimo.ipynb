{
 "cells": [
  {
   "cell_type": "markdown",
   "metadata": {
    "slideshow": {
     "slide_type": "subslide"
    }
   },
   "source": [
    "## Esercizio: Elemento Massimo\n",
    "\n",
    "**Si definisca una funzione:**\n",
    "\n",
    "```python\n",
    "def max_el(l)\n",
    "```\n",
    "\n",
    "Che individui l'elemento più grande nella collezione di ingresso `l`\n",
    "\n",
    "* Si effettuino esperimenti per diverse collezioni\n",
    "  - Si varia sia il contenuto della collezione che il tipo (e.g. lista, insieme, etc.)\n",
    "* Il codice deve essere contenuto in un'unica cella\n",
    "* Si verifichi il risultato confrontandolo con quello della funzione nativa `max`"
   ]
  }
 ],
 "metadata": {
  "celltoolbar": "Slideshow",
  "kernelspec": {
   "display_name": "Python 3 (ipykernel)",
   "language": "python",
   "name": "python3"
  },
  "language_info": {
   "codemirror_mode": {
    "name": "ipython",
    "version": 3
   },
   "file_extension": ".py",
   "mimetype": "text/x-python",
   "name": "python",
   "nbconvert_exporter": "python",
   "pygments_lexer": "ipython3",
   "version": "3.9.5"
  },
  "rise": {
   "center": false,
   "enable_chalkboard": true,
   "transition": "fade"
  }
 },
 "nbformat": 4,
 "nbformat_minor": 4
}
