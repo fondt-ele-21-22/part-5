{
 "cells": [
  {
   "cell_type": "markdown",
   "metadata": {
    "slideshow": {
     "slide_type": "subslide"
    }
   },
   "source": [
    "## Esercizio: Massimizzazione di un Prodotto\n",
    "\n",
    "**Si definisca una funzione:**\n",
    "\n",
    "```python\n",
    "def maximize_prod(s)\n",
    "```\n",
    "\n",
    "Che, dato in ingresso un numero naturale $s$\n",
    "\n",
    "* Trovi i due numeri naturali $a$ e $b$ tali che $a + b = s$\n",
    "* ...Ed il prodotto $a b$ ha valore massimo\n",
    "\n",
    "Il problema può essere risolto enumerando le possibili combinazioni\n",
    "\n",
    "**Qualche annotazione**\n",
    "\n",
    "* Il codice deve essere contenuto in una singola cella\n",
    "* Si effettuino esperimenti con diversi valori di $s$: notata qualche regolarità?"
   ]
  }
 ],
 "metadata": {
  "celltoolbar": "Slideshow",
  "kernelspec": {
   "display_name": "Python 3 (ipykernel)",
   "language": "python",
   "name": "python3"
  },
  "language_info": {
   "codemirror_mode": {
    "name": "ipython",
    "version": 3
   },
   "file_extension": ".py",
   "mimetype": "text/x-python",
   "name": "python",
   "nbconvert_exporter": "python",
   "pygments_lexer": "ipython3",
   "version": "3.9.5"
  },
  "rise": {
   "center": false,
   "enable_chalkboard": true,
   "transition": "fade"
  }
 },
 "nbformat": 4,
 "nbformat_minor": 4
}
