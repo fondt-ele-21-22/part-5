{
 "cells": [
  {
   "cell_type": "markdown",
   "metadata": {
    "slideshow": {
     "slide_type": "subslide"
    }
   },
   "source": [
    "## Esercizio: Ordinamento\n",
    "\n",
    "**Si definisca una funzione:**\n",
    "\n",
    "```python\n",
    "def bubble_sort(l)\n",
    "```\n",
    "\n",
    "* Che restituisca una copia della lista `l`\n",
    "* ...Ordinata usando l'algoritmo [bubble sort](https://en.wikipedia.org/wiki/Bubble_sort)\n",
    "\n",
    "**Bubble sort è un algoritmo classico di ordinamento**\n",
    "\n",
    "* Procede per successive \"passate\" sulla lista\n",
    "* Ad ogni passata, eventuali elementi adiacenti che sono fuori ordine\n",
    "* ...Vengono scambiati per rendere la lista più ordinata\n",
    "* L'algoritmo termina dopo un certo numero di passate\n",
    "\n",
    "**Lo stesso risultato può essere ottenuto in Python con la funzione `sorted`**"
   ]
  },
  {
   "cell_type": "markdown",
   "metadata": {
    "slideshow": {
     "slide_type": "subslide"
    }
   },
   "source": [
    "## Esercizio: Ordinamento\n",
    "\n",
    "**L'algoritmo è definito dal seguente pseudo-codice**\n",
    "\n",
    "Nel codice $m$ rappresenta la lunghezza della lista\n",
    "\n",
    "* $\\text{for } n = m .. 2:$ \\# Ogni passata è un po' più corta\n",
    "  - $\\text{for } i = 1 .. n$: \\# Questo ciclo gestisce una singola \"passata\"\n",
    "    - $\\text{if } l_{i-1} > l_i$:\n",
    "      - $t = l_i$ \\# Questi tre assegnamenti effettuano uno scambio\n",
    "      - $l_i = l_{i-1}$\n",
    "      - $l_{i-1} = t$\n",
    "\n",
    "**Qualche indicazione**\n",
    "\n",
    "* Per copiare la lista, is usi una comprehension, e.g.: `res = [v for v in l]`\n",
    "* Il codice deve essere contenuto in una singola cella\n",
    "* Si confronti il risultato con quello della funzione `reversed` di Python"
   ]
  },
  {
   "cell_type": "markdown",
   "metadata": {
    "slideshow": {
     "slide_type": "subslide"
    }
   },
   "source": [
    "## Esercizio: Ordinamento\n",
    "\n",
    "**Di seguito una possibile soluzione**"
   ]
  },
  {
   "cell_type": "code",
   "execution_count": 3,
   "metadata": {},
   "outputs": [
    {
     "name": "stdout",
     "output_type": "stream",
     "text": [
      "bubble sort: [1, 2, 3, 3, 5, 5, 6, 7]\n",
      "sorted: [1, 2, 3, 3, 5, 5, 6, 7]\n"
     ]
    }
   ],
   "source": [
    "def bubble_sort(l):\n",
    "    res = [v for v in l]\n",
    "    for n in range(len(l), 1, -1):\n",
    "        for i in range(1, n):\n",
    "            if res[i-1] > res[i]:\n",
    "                t = res[i]\n",
    "                res[i] = res[i-1]\n",
    "                res[i-1] = t\n",
    "    return res\n",
    "\n",
    "l = [2, 5, 7, 3, 1, 5, 3, 6]\n",
    "print(f'bubble sort: {bubble_sort(l)}')\n",
    "print(f'sorted: {sorted(l)}')"
   ]
  }
 ],
 "metadata": {
  "celltoolbar": "Slideshow",
  "kernelspec": {
   "display_name": "Python 3 (ipykernel)",
   "language": "python",
   "name": "python3"
  },
  "language_info": {
   "codemirror_mode": {
    "name": "ipython",
    "version": 3
   },
   "file_extension": ".py",
   "mimetype": "text/x-python",
   "name": "python",
   "nbconvert_exporter": "python",
   "pygments_lexer": "ipython3",
   "version": "3.9.5"
  },
  "rise": {
   "center": false,
   "enable_chalkboard": true,
   "transition": "fade"
  }
 },
 "nbformat": 4,
 "nbformat_minor": 4
}
